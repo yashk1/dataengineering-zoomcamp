{
 "cells": [
  {
   "cell_type": "code",
   "execution_count": null,
   "metadata": {},
   "outputs": [],
   "source": []
  },
  {
   "cell_type": "code",
   "execution_count": 1,
   "metadata": {},
   "outputs": [],
   "source": [
    "import pandas as pd\n",
    "import pyarrow\n",
    "\n",
    "from sqlalchemy import create_engine, text\n",
    "from time import time"
   ]
  },
  {
   "cell_type": "code",
   "execution_count": 2,
   "metadata": {},
   "outputs": [
    {
     "data": {
      "text/html": [
       "<div>\n",
       "<style scoped>\n",
       "    .dataframe tbody tr th:only-of-type {\n",
       "        vertical-align: middle;\n",
       "    }\n",
       "\n",
       "    .dataframe tbody tr th {\n",
       "        vertical-align: top;\n",
       "    }\n",
       "\n",
       "    .dataframe thead th {\n",
       "        text-align: right;\n",
       "    }\n",
       "</style>\n",
       "<table border=\"1\" class=\"dataframe\">\n",
       "  <thead>\n",
       "    <tr style=\"text-align: right;\">\n",
       "      <th></th>\n",
       "      <th>VendorID</th>\n",
       "      <th>tpep_pickup_datetime</th>\n",
       "      <th>tpep_dropoff_datetime</th>\n",
       "      <th>passenger_count</th>\n",
       "      <th>trip_distance</th>\n",
       "      <th>RatecodeID</th>\n",
       "      <th>store_and_fwd_flag</th>\n",
       "      <th>PULocationID</th>\n",
       "      <th>DOLocationID</th>\n",
       "      <th>payment_type</th>\n",
       "      <th>fare_amount</th>\n",
       "      <th>extra</th>\n",
       "      <th>mta_tax</th>\n",
       "      <th>tip_amount</th>\n",
       "      <th>tolls_amount</th>\n",
       "      <th>improvement_surcharge</th>\n",
       "      <th>total_amount</th>\n",
       "      <th>congestion_surcharge</th>\n",
       "      <th>Airport_fee</th>\n",
       "    </tr>\n",
       "  </thead>\n",
       "  <tbody>\n",
       "    <tr>\n",
       "      <th>0</th>\n",
       "      <td>1</td>\n",
       "      <td>2024-06-01 00:03:46</td>\n",
       "      <td>2024-06-01 00:31:23</td>\n",
       "      <td>1.0</td>\n",
       "      <td>12.50</td>\n",
       "      <td>1.0</td>\n",
       "      <td>N</td>\n",
       "      <td>138</td>\n",
       "      <td>195</td>\n",
       "      <td>1</td>\n",
       "      <td>48.5</td>\n",
       "      <td>7.75</td>\n",
       "      <td>0.5</td>\n",
       "      <td>11.55</td>\n",
       "      <td>0.0</td>\n",
       "      <td>1.0</td>\n",
       "      <td>69.30</td>\n",
       "      <td>0.0</td>\n",
       "      <td>1.75</td>\n",
       "    </tr>\n",
       "    <tr>\n",
       "      <th>1</th>\n",
       "      <td>2</td>\n",
       "      <td>2024-06-01 00:55:22</td>\n",
       "      <td>2024-06-01 01:08:24</td>\n",
       "      <td>1.0</td>\n",
       "      <td>4.34</td>\n",
       "      <td>1.0</td>\n",
       "      <td>N</td>\n",
       "      <td>138</td>\n",
       "      <td>7</td>\n",
       "      <td>1</td>\n",
       "      <td>20.5</td>\n",
       "      <td>6.00</td>\n",
       "      <td>0.5</td>\n",
       "      <td>8.40</td>\n",
       "      <td>0.0</td>\n",
       "      <td>1.0</td>\n",
       "      <td>38.15</td>\n",
       "      <td>0.0</td>\n",
       "      <td>1.75</td>\n",
       "    </tr>\n",
       "    <tr>\n",
       "      <th>2</th>\n",
       "      <td>1</td>\n",
       "      <td>2024-06-01 00:23:53</td>\n",
       "      <td>2024-06-01 00:32:35</td>\n",
       "      <td>1.0</td>\n",
       "      <td>1.30</td>\n",
       "      <td>1.0</td>\n",
       "      <td>N</td>\n",
       "      <td>166</td>\n",
       "      <td>41</td>\n",
       "      <td>1</td>\n",
       "      <td>10.0</td>\n",
       "      <td>1.00</td>\n",
       "      <td>0.5</td>\n",
       "      <td>3.10</td>\n",
       "      <td>0.0</td>\n",
       "      <td>1.0</td>\n",
       "      <td>15.60</td>\n",
       "      <td>0.0</td>\n",
       "      <td>0.00</td>\n",
       "    </tr>\n",
       "    <tr>\n",
       "      <th>3</th>\n",
       "      <td>1</td>\n",
       "      <td>2024-06-01 00:32:24</td>\n",
       "      <td>2024-06-01 00:40:06</td>\n",
       "      <td>1.0</td>\n",
       "      <td>1.20</td>\n",
       "      <td>1.0</td>\n",
       "      <td>N</td>\n",
       "      <td>148</td>\n",
       "      <td>114</td>\n",
       "      <td>1</td>\n",
       "      <td>8.6</td>\n",
       "      <td>3.50</td>\n",
       "      <td>0.5</td>\n",
       "      <td>0.20</td>\n",
       "      <td>0.0</td>\n",
       "      <td>1.0</td>\n",
       "      <td>13.80</td>\n",
       "      <td>2.5</td>\n",
       "      <td>0.00</td>\n",
       "    </tr>\n",
       "    <tr>\n",
       "      <th>4</th>\n",
       "      <td>1</td>\n",
       "      <td>2024-06-01 00:51:38</td>\n",
       "      <td>2024-06-01 00:58:17</td>\n",
       "      <td>1.0</td>\n",
       "      <td>1.00</td>\n",
       "      <td>1.0</td>\n",
       "      <td>N</td>\n",
       "      <td>148</td>\n",
       "      <td>249</td>\n",
       "      <td>1</td>\n",
       "      <td>7.2</td>\n",
       "      <td>3.50</td>\n",
       "      <td>0.5</td>\n",
       "      <td>2.00</td>\n",
       "      <td>0.0</td>\n",
       "      <td>1.0</td>\n",
       "      <td>14.20</td>\n",
       "      <td>2.5</td>\n",
       "      <td>0.00</td>\n",
       "    </tr>\n",
       "  </tbody>\n",
       "</table>\n",
       "</div>"
      ],
      "text/plain": [
       "   VendorID tpep_pickup_datetime tpep_dropoff_datetime  passenger_count  \\\n",
       "0         1  2024-06-01 00:03:46   2024-06-01 00:31:23              1.0   \n",
       "1         2  2024-06-01 00:55:22   2024-06-01 01:08:24              1.0   \n",
       "2         1  2024-06-01 00:23:53   2024-06-01 00:32:35              1.0   \n",
       "3         1  2024-06-01 00:32:24   2024-06-01 00:40:06              1.0   \n",
       "4         1  2024-06-01 00:51:38   2024-06-01 00:58:17              1.0   \n",
       "\n",
       "   trip_distance  RatecodeID store_and_fwd_flag  PULocationID  DOLocationID  \\\n",
       "0          12.50         1.0                  N           138           195   \n",
       "1           4.34         1.0                  N           138             7   \n",
       "2           1.30         1.0                  N           166            41   \n",
       "3           1.20         1.0                  N           148           114   \n",
       "4           1.00         1.0                  N           148           249   \n",
       "\n",
       "   payment_type  fare_amount  extra  mta_tax  tip_amount  tolls_amount  \\\n",
       "0             1         48.5   7.75      0.5       11.55           0.0   \n",
       "1             1         20.5   6.00      0.5        8.40           0.0   \n",
       "2             1         10.0   1.00      0.5        3.10           0.0   \n",
       "3             1          8.6   3.50      0.5        0.20           0.0   \n",
       "4             1          7.2   3.50      0.5        2.00           0.0   \n",
       "\n",
       "   improvement_surcharge  total_amount  congestion_surcharge  Airport_fee  \n",
       "0                    1.0         69.30                   0.0         1.75  \n",
       "1                    1.0         38.15                   0.0         1.75  \n",
       "2                    1.0         15.60                   0.0         0.00  \n",
       "3                    1.0         13.80                   2.5         0.00  \n",
       "4                    1.0         14.20                   2.5         0.00  "
      ]
     },
     "execution_count": 2,
     "metadata": {},
     "output_type": "execute_result"
    }
   ],
   "source": [
    "# get the data\n",
    "# !wget https://d37ci6vzurychx.cloudfront.net/trip-data/yellow_tripdata_2024-06.parquet\n",
    "\n",
    "# get data understanding\n",
    "ytdata = pd.read_parquet('yellow_tripdata_2024-06.parquet', engine='pyarrow')\n",
    "ytdata.head()"
   ]
  },
  {
   "cell_type": "code",
   "execution_count": 3,
   "metadata": {},
   "outputs": [
    {
     "name": "stdout",
     "output_type": "stream",
     "text": [
      "<class 'pandas.core.frame.DataFrame'>\n",
      "RangeIndex: 3539193 entries, 0 to 3539192\n",
      "Data columns (total 19 columns):\n",
      " #   Column                 Dtype         \n",
      "---  ------                 -----         \n",
      " 0   VendorID               int32         \n",
      " 1   tpep_pickup_datetime   datetime64[us]\n",
      " 2   tpep_dropoff_datetime  datetime64[us]\n",
      " 3   passenger_count        float64       \n",
      " 4   trip_distance          float64       \n",
      " 5   RatecodeID             float64       \n",
      " 6   store_and_fwd_flag     object        \n",
      " 7   PULocationID           int32         \n",
      " 8   DOLocationID           int32         \n",
      " 9   payment_type           int64         \n",
      " 10  fare_amount            float64       \n",
      " 11  extra                  float64       \n",
      " 12  mta_tax                float64       \n",
      " 13  tip_amount             float64       \n",
      " 14  tolls_amount           float64       \n",
      " 15  improvement_surcharge  float64       \n",
      " 16  total_amount           float64       \n",
      " 17  congestion_surcharge   float64       \n",
      " 18  Airport_fee            float64       \n",
      "dtypes: datetime64[us](2), float64(12), int32(3), int64(1), object(1)\n",
      "memory usage: 472.5+ MB\n"
     ]
    }
   ],
   "source": [
    "ytdata.info()"
   ]
  },
  {
   "cell_type": "code",
   "execution_count": 4,
   "metadata": {},
   "outputs": [
    {
     "data": {
      "text/plain": [
       "<sqlalchemy.engine.base.Connection at 0x300ad89e0>"
      ]
     },
     "execution_count": 4,
     "metadata": {},
     "output_type": "execute_result"
    }
   ],
   "source": [
    "# connect to database and upload this data \n",
    "db_user = 'root'\n",
    "db_password = 'root'\n",
    "db_host = 'localhost'\n",
    "db_port = 5431\n",
    "db_name = 'ny_taxi'\n",
    "\n",
    "connection_string = f'postgresql://{db_user}:{db_password}@{db_host}:{db_port}/{db_name}'\n",
    "engine = create_engine(connection_string)\n",
    "db_connection = engine.connect()\n",
    "db_connection"
   ]
  },
  {
   "cell_type": "code",
   "execution_count": 13,
   "metadata": {},
   "outputs": [
    {
     "name": "stdout",
     "output_type": "stream",
     "text": [
      "0\n"
     ]
    }
   ],
   "source": [
    "try:\n",
    "    # execute query\n",
    "    print(db_connection.execute(text(\"SELECT count(*) FROM yellow_taxi_trips\")).scalar())\n",
    "except Exception as e:\n",
    "    # check connection status\n",
    "    if db_connection.closed or db_connection.invalidated:\n",
    "        # roll back transaction\n",
    "        db_connection.rollback()\n",
    "    raise e"
   ]
  },
  {
   "cell_type": "code",
   "execution_count": 14,
   "metadata": {},
   "outputs": [
    {
     "data": {
      "text/plain": [
       "{'yellow_taxi_trips': 0, 'orders': 5}"
      ]
     },
     "execution_count": 14,
     "metadata": {},
     "output_type": "execute_result"
    }
   ],
   "source": [
    "# get list of tables\n",
    "tables = db_connection.execute(text(\"SELECT table_name FROM information_schema.tables WHERE table_schema='public'\"))\n",
    "table_names = [table[0] for table in tables.fetchall()]\n",
    "\n",
    "#get row count for the tables\n",
    "row_counts = {table: db_connection.execute(text(f\"SELECT COUNT(*) FROM {table}\")).scalar() for table in table_names}\n",
    "row_counts"
   ]
  },
  {
   "cell_type": "code",
   "execution_count": 15,
   "metadata": {},
   "outputs": [
    {
     "name": "stdout",
     "output_type": "stream",
     "text": [
      "CREATE TABLE \"yellow_taxi_trips\" (\n",
      "\"VendorID\" INTEGER,\n",
      "  \"tpep_pickup_datetime\" TIMESTAMP,\n",
      "  \"tpep_dropoff_datetime\" TIMESTAMP,\n",
      "  \"passenger_count\" REAL,\n",
      "  \"trip_distance\" REAL,\n",
      "  \"RatecodeID\" REAL,\n",
      "  \"store_and_fwd_flag\" TEXT,\n",
      "  \"PULocationID\" INTEGER,\n",
      "  \"DOLocationID\" INTEGER,\n",
      "  \"payment_type\" INTEGER,\n",
      "  \"fare_amount\" REAL,\n",
      "  \"extra\" REAL,\n",
      "  \"mta_tax\" REAL,\n",
      "  \"tip_amount\" REAL,\n",
      "  \"tolls_amount\" REAL,\n",
      "  \"improvement_surcharge\" REAL,\n",
      "  \"total_amount\" REAL,\n",
      "  \"congestion_surcharge\" REAL,\n",
      "  \"Airport_fee\" REAL\n",
      ")\n"
     ]
    }
   ],
   "source": [
    "#get schema of df (not necessary)\n",
    "print(pd.io.sql.get_schema(ytdata, name='yellow_taxi_trips'))"
   ]
  },
  {
   "cell_type": "code",
   "execution_count": 8,
   "metadata": {},
   "outputs": [],
   "source": [
    "#create an empty table - yellow_taxi_trips\n",
    "ytdata.head(0).to_sql(con=engine, name='yellow_taxi_trips', if_exists='replace')"
   ]
  },
  {
   "cell_type": "code",
   "execution_count": 16,
   "metadata": {},
   "outputs": [
    {
     "data": {
      "text/plain": [
       "{'yellow_taxi_trips': 0, 'orders': 5}"
      ]
     },
     "execution_count": 16,
     "metadata": {},
     "output_type": "execute_result"
    }
   ],
   "source": [
    "# get list of tables\n",
    "tables = db_connection.execute(text(\"SELECT table_name FROM information_schema.tables WHERE table_schema='public'\"))\n",
    "table_names = [table[0] for table in tables.fetchall()]\n",
    "\n",
    "#get row count for the tables\n",
    "row_counts = {table: db_connection.execute(text(f\"SELECT COUNT(*) FROM {table}\")).scalar() for table in table_names}\n",
    "row_counts"
   ]
  },
  {
   "cell_type": "code",
   "execution_count": 17,
   "metadata": {},
   "outputs": [
    {
     "name": "stdout",
     "output_type": "stream",
     "text": [
      "Inserted row group 1 of 4\n",
      "Inserted row group 2 of 4\n",
      "Inserted row group 3 of 4\n",
      "Inserted row group 4 of 4\n",
      "Ingestion completed. Total time: 203.10 seconds\n",
      "Total rows in yellow_taxi_trips: 3539193\n"
     ]
    }
   ],
   "source": [
    "# ingest data into table\n",
    "import pyarrow.parquet as pq\n",
    "\n",
    "start_time = time()\n",
    "\n",
    "parquet_file = pq.ParquetFile('yellow_tripdata_2024-06.parquet')\n",
    "\n",
    "connection_string = f'postgresql://{db_user}:{db_password}@{db_host}:{db_port}/{db_name}'\n",
    "engine = create_engine(connection_string)\n",
    "chunksize = 100000\n",
    "\n",
    "num_row_groups = parquet_file.num_row_groups\n",
    "for i in range(num_row_groups):\n",
    "    chunk = parquet_file.read_row_group(i, columns=parquet_file.schema.names)\n",
    "    df_chunk = chunk.to_pandas()\n",
    "    df_chunk.to_sql(name='yellow_taxi_trips', con=engine, if_exists='append', index=False)\n",
    "    print(f\"Inserted row group {i + 1} of {num_row_groups}\")\n",
    "    \n",
    "end_time = time()\n",
    "print(f\"Ingestion completed. Total time: {end_time - start_time:.2f} seconds\")\n",
    "\n",
    "# Verify the data was inserted\n",
    "row_count = db_connection.execute(text(\"SELECT COUNT(*) FROM yellow_taxi_trips\")).scalar()\n",
    "print(f\"Total rows in yellow_taxi_trips: {row_count}\")"
   ]
  }
 ],
 "metadata": {
  "kernelspec": {
   "display_name": "docker-env",
   "language": "python",
   "name": "python3"
  },
  "language_info": {
   "codemirror_mode": {
    "name": "ipython",
    "version": 3
   },
   "file_extension": ".py",
   "mimetype": "text/x-python",
   "name": "python",
   "nbconvert_exporter": "python",
   "pygments_lexer": "ipython3",
   "version": "3.12.2"
  }
 },
 "nbformat": 4,
 "nbformat_minor": 2
}
