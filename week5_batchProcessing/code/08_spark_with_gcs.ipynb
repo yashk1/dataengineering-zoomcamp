{
 "cells": [
  {
   "cell_type": "code",
   "execution_count": 1,
   "metadata": {},
   "outputs": [],
   "source": [
    "import pyspark\n",
    "from pyspark.sql import SparkSession\n",
    "from pyspark.conf import SparkConf\n",
    "from pyspark.context import SparkContext"
   ]
  },
  {
   "cell_type": "code",
   "execution_count": 2,
   "metadata": {},
   "outputs": [
    {
     "name": "stderr",
     "output_type": "stream",
     "text": [
      "24/05/24 14:36:05 WARN Utils: Your hostname, Yashs-MacBook-Pro.local resolves to a loopback address: 127.0.0.1; using 10.0.0.189 instead (on interface en0)\n",
      "24/05/24 14:36:05 WARN Utils: Set SPARK_LOCAL_IP if you need to bind to another address\n",
      "24/05/24 14:36:06 WARN NativeCodeLoader: Unable to load native-hadoop library for your platform... using builtin-java classes where applicable\n",
      "Setting default log level to \"WARN\".\n",
      "To adjust logging level use sc.setLogLevel(newLevel). For SparkR, use setLogLevel(newLevel).\n"
     ]
    }
   ],
   "source": [
    "credentials_location = '/Users/yash/opt/gcp/de-zoomcamp-serviceaccount.json'\n",
    "\n",
    "conf = SparkConf() \\\n",
    "        .setMaster('local[*]') \\\n",
    "        .setAppName('test') \\\n",
    "        .set(\"spark.jars\", \"./lib/gcs-connector-hadoop3-2.2.11.jar\") \\\n",
    "        .set(\"spark.hadoop.google.cloud.auth.service.account.enable\", \"true\") \\\n",
    "        .set(\"spark.hadoop.google.cloud.auth.service.account.json.keyfile\", credentials_location)\n",
    "\n",
    "sc = SparkContext(conf=conf)\n",
    "\n",
    "hadoop_conf = sc._jsc.hadoopConfiguration() # type: ignore\n",
    "\n",
    "hadoop_conf.set(\"fs.AbstractFileSystem.gs.impl\", \"com.google.cloud.hadoop.fs.gcs.GoogleHadoopFS\")\n",
    "hadoop_conf.set(\"fs.gs.impl\", \"com.google.cloud.hadoop.fs.gcs.GoogleHadoopFileSystem\")\n",
    "hadoop_conf.set(\"fs.gs.auth.service.account.json.keyfile\", credentials_location)\n",
    "hadoop_conf.set(\"fs.gs.auth.service.account.enable\", \"true\")"
   ]
  },
  {
   "cell_type": "code",
   "execution_count": 3,
   "metadata": {},
   "outputs": [],
   "source": [
    "spark = SparkSession.builder \\\n",
    "    .config(conf=sc.getConf()) \\\n",
    "    .getOrCreate()"
   ]
  },
  {
   "cell_type": "code",
   "execution_count": 4,
   "metadata": {},
   "outputs": [
    {
     "name": "stderr",
     "output_type": "stream",
     "text": [
      "                                                                                \r"
     ]
    },
    {
     "name": "stdout",
     "output_type": "stream",
     "text": [
      "+--------+--------------------+---------------------+------------------+----------+------------+------------+---------------+-------------+-----------+-----+-------+----------+------------+---------+---------------------+------------+------------+---------+--------------------+\n",
      "|VendorID|lpep_pickup_datetime|lpep_dropoff_datetime|store_and_fwd_flag|RatecodeID|PULocationID|DOLocationID|passenger_count|trip_distance|fare_amount|extra|mta_tax|tip_amount|tolls_amount|ehail_fee|improvement_surcharge|total_amount|payment_type|trip_type|congestion_surcharge|\n",
      "+--------+--------------------+---------------------+------------------+----------+------------+------------+---------------+-------------+-----------+-----+-------+----------+------------+---------+---------------------+------------+------------+---------+--------------------+\n",
      "|       2| 2020-01-29 14:32:00|  2020-01-29 14:37:24|                 N|         1|          97|          97|              1|         0.81|        5.5|  0.0|    0.5|       1.0|         0.0|     NULL|                  0.3|         7.3|           1|        1|                 0.0|\n",
      "|       2| 2020-01-24 04:36:44|  2020-01-24 04:46:50|                 N|         5|           7|         141|              1|         3.02|       40.0|  0.0|    0.0|       0.0|         0.0|     NULL|                  0.0|       42.75|           1|        2|                2.75|\n",
      "|       2| 2020-01-23 13:52:00|  2020-01-23 13:59:34|                 N|         1|          43|          24|              2|         1.32|        7.5|  0.0|    0.5|       0.0|         0.0|     NULL|                  0.3|         8.3|           2|        1|                 0.0|\n",
      "|       2| 2020-01-26 22:18:03|  2020-01-26 22:23:05|                 N|         1|         260|         260|              1|         0.89|        5.5|  0.5|    0.5|       0.0|         0.0|     NULL|                  0.3|         6.8|           2|        1|                 0.0|\n",
      "|    NULL| 2020-01-04 16:00:00|  2020-01-04 16:12:00|              NULL|      NULL|         177|          49|           NULL|         2.83|      13.78|  5.5|    0.5|       0.0|         0.0|     NULL|                  0.0|       19.78|        NULL|     NULL|                NULL|\n",
      "|       2| 2020-01-21 23:02:04|  2020-01-21 23:09:22|                 N|         1|          24|          41|              1|         1.33|        7.5|  0.5|    0.5|      1.76|         0.0|     NULL|                  0.3|       10.56|           1|        1|                 0.0|\n",
      "|       2| 2020-01-25 19:09:59|  2020-01-25 19:27:25|                 N|         1|          82|         145|              1|         3.41|       14.5|  0.0|    0.5|       0.0|         0.0|     NULL|                  0.3|        15.3|           1|        1|                 0.0|\n",
      "|       1| 2020-01-24 21:30:37|  2020-01-24 21:36:44|                 N|         1|         260|           7|              1|          1.5|        6.5|  0.5|    0.5|       0.0|         0.0|     NULL|                  0.3|         7.8|           2|        1|                 0.0|\n",
      "|       2| 2020-01-03 11:37:21|  2020-01-03 11:39:41|                 N|         1|         130|         130|              1|          0.2|        3.5|  0.0|    0.5|       0.0|         0.0|     NULL|                  0.3|         4.3|           2|        1|                 0.0|\n",
      "|    NULL| 2020-01-09 07:06:00|  2020-01-09 07:16:00|              NULL|      NULL|         218|          38|           NULL|         2.47|       12.1|  0.0|    0.0|       0.0|         0.0|     NULL|                  0.3|        12.4|        NULL|     NULL|                NULL|\n",
      "|       2| 2020-01-18 18:53:01|  2020-01-18 19:57:47|                 N|         1|         188|         122|              1|        19.52|       59.5|  0.0|    0.5|     12.06|         0.0|     NULL|                  0.3|       72.36|           1|        1|                 0.0|\n",
      "|       2| 2020-01-26 12:38:13|  2020-01-26 12:43:40|                 N|         1|          74|          75|              1|         0.52|        5.0|  0.0|    0.5|       0.0|         0.0|     NULL|                  0.3|         5.8|           2|        1|                 0.0|\n",
      "|       2| 2020-01-07 13:47:16|  2020-01-07 14:12:32|                 N|         1|         150|          14|              1|         8.18|       27.5|  0.0|    0.5|      5.66|         0.0|     NULL|                  0.3|       33.96|           1|        1|                 0.0|\n",
      "|    NULL| 2020-01-20 16:23:00|  2020-01-20 16:42:00|              NULL|      NULL|          89|         178|           NULL|         2.95|      16.53| 2.75|    0.5|       0.0|         0.0|     NULL|                  0.0|       19.78|        NULL|     NULL|                NULL|\n",
      "|       2| 2020-01-13 20:47:41|  2020-01-13 20:55:03|                 N|         1|         130|          28|              1|         1.58|        7.5|  0.5|    0.5|      1.76|         0.0|     NULL|                  0.3|       10.56|           1|        1|                 0.0|\n",
      "|       2| 2020-01-17 18:35:06|  2020-01-17 18:42:50|                 N|         1|         181|          49|              1|         0.86|        6.5|  1.0|    0.5|      1.66|         0.0|     NULL|                  0.3|        9.96|           1|        1|                 0.0|\n",
      "|       2| 2020-01-09 13:40:51|  2020-01-09 14:21:21|                 N|         1|         244|          74|              1|        15.84|       43.5|  0.0|    0.5|       0.0|         0.0|     NULL|                  0.3|       47.05|           2|        1|                2.75|\n",
      "|       2| 2020-01-28 17:10:16|  2020-01-28 17:21:37|                 N|         1|          74|          42|              1|         1.31|        9.0|  1.0|    0.5|       1.0|         0.0|     NULL|                  0.3|        11.8|           1|        1|                 0.0|\n",
      "|       2| 2020-01-26 11:18:44|  2020-01-26 11:23:04|                 N|         1|         166|          41|              1|         0.72|        5.0|  0.0|    0.5|      1.16|         0.0|     NULL|                  0.3|        6.96|           1|        1|                 0.0|\n",
      "|    NULL| 2020-01-08 11:43:00|  2020-01-08 11:54:00|              NULL|      NULL|         179|           7|           NULL|          1.1|       11.0|  0.0|    0.0|       0.0|         0.0|     NULL|                  0.3|        11.3|        NULL|     NULL|                NULL|\n",
      "+--------+--------------------+---------------------+------------------+----------+------------+------------+---------------+-------------+-----------+-----+-------+----------+------------+---------+---------------------+------------+------------+---------+--------------------+\n",
      "only showing top 20 rows\n",
      "\n"
     ]
    }
   ],
   "source": [
    "df_green = spark.read.parquet('gs://prismatic-grail-420403-homework-bucket/pq/green/*/*')\n",
    "df_green.show()"
   ]
  },
  {
   "cell_type": "code",
   "execution_count": 5,
   "metadata": {},
   "outputs": [
    {
     "name": "stderr",
     "output_type": "stream",
     "text": [
      "                                                                                \r"
     ]
    },
    {
     "data": {
      "text/plain": [
       "2304517"
      ]
     },
     "execution_count": 5,
     "metadata": {},
     "output_type": "execute_result"
    }
   ],
   "source": [
    "df_green.count()"
   ]
  },
  {
   "cell_type": "code",
   "execution_count": null,
   "metadata": {},
   "outputs": [],
   "source": []
  }
 ],
 "metadata": {
  "kernelspec": {
   "display_name": "base",
   "language": "python",
   "name": "python3"
  },
  "language_info": {
   "codemirror_mode": {
    "name": "ipython",
    "version": 3
   },
   "file_extension": ".py",
   "mimetype": "text/x-python",
   "name": "python",
   "nbconvert_exporter": "python",
   "pygments_lexer": "ipython3",
   "version": "3.12.2"
  }
 },
 "nbformat": 4,
 "nbformat_minor": 2
}
